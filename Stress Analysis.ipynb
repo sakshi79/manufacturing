{
 "cells": [
  {
   "cell_type": "markdown",
   "metadata": {},
   "source": [
    "## Stress(sigma) = Force(P) / Area(A)  \n",
    "## Deflection(delta) = (P*L) / (A*E)\n",
    "## Strain(e) = delta/L"
   ]
  },
  {
   "cell_type": "code",
   "execution_count": 1,
   "metadata": {},
   "outputs": [
    {
     "name": "stdout",
     "output_type": "stream",
     "text": [
      "Inner diameter: 10\n",
      "Outer diameter: 12\n",
      "Load: 10000\n",
      "Length of cylinder: 100\n",
      "modulus of elasticity: 210000\n"
     ]
    }
   ],
   "source": [
    "d1 = int(input(\"Inner diameter: \"))                 #Inner dia(mm)\n",
    "d2 = int(input(\"Outer diameter: \"))                 #Outer dia(mm)\n",
    "P = int(input(\"Load: \"))                            #Load(N)\n",
    "L = int(input(\"Length of cylinder: \"))              #length(mm)\n",
    "E = float(input(\"modulus of elasticity: \"))         #Young's modulus(N/mm^2)"
   ]
  },
  {
   "cell_type": "code",
   "execution_count": 3,
   "metadata": {},
   "outputs": [
    {
     "name": "stdout",
     "output_type": "stream",
     "text": [
      "stress in cylindrical rod is  289.3351079219953  MPa\n",
      "stain in the cylindrical rod is  0.0013777862281999776\n"
     ]
    }
   ],
   "source": [
    "#calculation\n",
    "A = (3.142/4)*(d2**2 - d1**2)\n",
    "sigma = P/A\n",
    "print('stress in cylindrical rod is ', sigma, ' MPa')\n",
    "delta = (P*L)/(A*E)\n",
    "e = delta/L\n",
    "print('stain in the cylindrical rod is ', e)"
   ]
  },
  {
   "cell_type": "code",
   "execution_count": null,
   "metadata": {},
   "outputs": [],
   "source": []
  }
 ],
 "metadata": {
  "kernelspec": {
   "display_name": "Python 3",
   "language": "python",
   "name": "python3"
  },
  "language_info": {
   "codemirror_mode": {
    "name": "ipython",
    "version": 3
   },
   "file_extension": ".py",
   "mimetype": "text/x-python",
   "name": "python",
   "nbconvert_exporter": "python",
   "pygments_lexer": "ipython3",
   "version": "3.8.3"
  }
 },
 "nbformat": 4,
 "nbformat_minor": 4
}
